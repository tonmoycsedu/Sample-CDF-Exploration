{
 "cells": [
  {
   "cell_type": "code",
   "execution_count": 74,
   "metadata": {
    "collapsed": true
   },
   "outputs": [],
   "source": [
    "import numpy as np\n",
    "import matplotlib.pyplot as plt"
   ]
  },
  {
   "cell_type": "code",
   "execution_count": 75,
   "metadata": {
    "collapsed": false
   },
   "outputs": [],
   "source": [
    "\n",
    "def cal_cdf(s):\n",
    "    s.sort()\n",
    "    cdf = []\n",
    "    key = []\n",
    "    sample_size = len(s)\n",
    "    #print(s)\n",
    "    s.append(-1)\n",
    "    #print(s)\n",
    "    \n",
    "    i = 0\n",
    "    while(i < sample_size):\n",
    "        \n",
    "        while(s[i] == s[i+1]):\n",
    "            i = i+1 \n",
    "                        \n",
    "\n",
    "        key.append(s[i]) \n",
    "        cdf.append(float((i+1)/sample_size) )\n",
    "        i = i+1\n",
    "\n",
    "\n",
    "    #print(key,cdf)\n",
    "    return key,cdf\n",
    "    \n"
   ]
  },
  {
   "cell_type": "code",
   "execution_count": 76,
   "metadata": {
    "collapsed": false
   },
   "outputs": [
    {
     "data": {
      "image/png": "[encoded data removed]",
      "text/plain": [
       "<matplotlib.figure.Figure at 0x1f768485780>"
      ]
     },
     "metadata": {},
     "output_type": "display_data"
    }
   ],
   "source": [
    "s = np.random.binomial(200,0.5,10000)\n",
    "#print(len(s)\n",
    "#s = [3,1,7]\n",
    "key, cdf = cal_cdf(s.tolist())\n",
    "\n",
    "plt.figure('Cumulative Distribution')\n",
    "plt.plot(key,cdf)\n",
    "plt.xlabel('x')\n",
    "plt.ylabel('Pr[X<=x]')\n",
    "plt.title('CDF of sample')\n",
    "plt.grid()\n",
    "plt.show()"
   ]
  },
  {
   "cell_type": "code",
   "execution_count": 77,
   "metadata": {
    "collapsed": false
   },
   "outputs": [
    {
     "data": {
      "image/png": "[encoded data removed]",
      "text/plain": [
       "<matplotlib.figure.Figure at 0x1f767a1a828>"
      ]
     },
     "metadata": {},
     "output_type": "display_data"
    }
   ],
   "source": [
    "m=10000\n",
    "keys = []\n",
    "cdfs = []\n",
    "for i in range(m):\n",
    "    s = np.random.binomial(200,0.5,10)\n",
    "    key, cdf = cal_cdf(s.tolist())  \n",
    "    keys += key\n",
    "    cdfs += cdf\n",
    "    \n",
    "#print(keys)\n",
    "\n",
    "#print(cdfs)\n",
    "#print(\"######\")\n",
    "final_keys = []\n",
    "final_cdfs = []\n",
    "for item in keys:\n",
    "    #print(item)\n",
    "    if (item not in final_keys):\n",
    "        indices = [i for i, x in enumerate(keys) if x == item]\n",
    "        val = 0\n",
    "        for index in indices:\n",
    "            val = val+ cdfs[index]\n",
    "            \n",
    "        final_keys.append(item)\n",
    "        final_cdfs.append(float(val/len(indices)))\n",
    "    \n",
    "#print(final_keys)\n",
    "#print(final_cdfs)\n",
    "final = {}\n",
    "for i in range(len(final_keys)):\n",
    "    #print(final_keys[i],final_cdfs[i])\n",
    "    final[final_keys[i]] = final_cdfs[i]\n",
    "    \n",
    "#print(final)\n",
    "import collections\n",
    "sorted_final = collections.OrderedDict(sorted(final.items()))\n",
    "#print(sorted_final)\n",
    "\n",
    "plt.figure('Cumulative Distribution')\n",
    "plt.plot(list(sorted_final.keys()),list(sorted_final.values()))\n",
    "plt.xlabel('x')\n",
    "plt.ylabel('Pr[X<=x]')\n",
    "plt.title('CDF of sample')\n",
    "plt.grid()\n",
    "plt.show()\n",
    "                          \n",
    "                          \n",
    "    \n",
    "    "
   ]
  }
 ],
 "metadata": {
  "kernelspec": {
   "display_name": "Python 3",
   "language": "python",
   "name": "python3"
  },
  "language_info": {
   "codemirror_mode": {
    "name": "ipython",
    "version": 3
   },
   "file_extension": ".py",
   "mimetype": "text/x-python",
   "name": "python",
   "nbconvert_exporter": "python",
   "pygments_lexer": "ipython3",
   "version": "3.6.0"
  }
 },
 "nbformat": 4,
 "nbformat_minor": 2
}
