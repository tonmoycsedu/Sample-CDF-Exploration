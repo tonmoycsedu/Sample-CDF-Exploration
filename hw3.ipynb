{
 "cells": [
  {
   "cell_type": "code",
   "execution_count": 1,
   "metadata": {
    "collapsed": true
   },
   "outputs": [],
   "source": [
    "import numpy as np\n",
    "import matplotlib.pyplot as plt"
   ]
  },
  {
   "cell_type": "code",
   "execution_count": 2,
   "metadata": {
    "collapsed": false
   },
   "outputs": [],
   "source": [
    "\n",
    "def cal_cdf(s):\n",
    "    s.sort()\n",
    "    cdf = []\n",
    "    key = []\n",
    "    sample_size = len(s)\n",
    "    #print(s)\n",
    "    s.append(-1)\n",
    "    #print(s)\n",
    "    \n",
    "    i = 0\n",
    "    while(i < sample_size):\n",
    "        \n",
    "        while(s[i] == s[i+1]):\n",
    "            i = i+1 \n",
    "                        \n",
    "\n",
    "        key.append(s[i]) \n",
    "        cdf.append(float((i+1)/sample_size) )\n",
    "        i = i+1\n",
    "\n",
    "\n",
    "    #print(key,cdf)\n",
    "    return key,cdf\n",
    "    \n"
   ]
  },
  {
   "cell_type": "code",
   "execution_count": 4,
   "metadata": {
    "collapsed": false
   },
   "outputs": [
    {
     "data": {
      "image/png": "[encoded data removed]",
      "text/plain": [
       "<matplotlib.figure.Figure at 0x1ca45c61cf8>"
      ]
     },
     "metadata": {},
     "output_type": "display_data"
    }
   ],
   "source": [
    "s = np.random.binomial(199,0.5,10000)\n",
    "#print(len(s)\n",
    "#s = [3,1,7]\n",
    "key, cdf = cal_cdf(s.tolist())\n",
    "\n",
    "plt.figure('Cumulative Distribution')\n",
    "plt.plot(key,cdf)\n",
    "plt.xlabel('x')\n",
    "plt.ylabel('Pr[X<=x]')\n",
    "plt.title('CDF of sample')\n",
    "plt.grid()\n",
    "plt.show()"
   ]
  },
  {
   "cell_type": "code",
   "execution_count": 5,
   "metadata": {
    "collapsed": false
   },
   "outputs": [],
   "source": [
    "#m=10000\n",
    "import collections\n",
    "\n",
    "def cal_avg_cdf(m):\n",
    "    keys = []\n",
    "    cdfs = []\n",
    "    for i in range(m):\n",
    "        s = np.random.binomial(199,0.5,10)\n",
    "        key, cdf = cal_cdf(s.tolist())  \n",
    "        keys += key\n",
    "        cdfs += cdf\n",
    "\n",
    "    #print(keys)\n",
    "\n",
    "    #print(cdfs)\n",
    "    #print(\"######\")\n",
    "    final_keys = []\n",
    "    final_cdfs = []\n",
    "    for item in keys:\n",
    "        #print(item)\n",
    "        if (item not in final_keys):\n",
    "            indices = [i for i, x in enumerate(keys) if x == item]\n",
    "            val = 0\n",
    "            for index in indices:\n",
    "                val = val+ cdfs[index]\n",
    "\n",
    "            final_keys.append(item)\n",
    "            final_cdfs.append(float(val/len(indices)))\n",
    "\n",
    "    #print(final_keys)\n",
    "    #print(final_cdfs)\n",
    "    final = {}\n",
    "    for i in range(len(final_keys)):\n",
    "        #print(final_keys[i],final_cdfs[i])\n",
    "        final[final_keys[i]] = final_cdfs[i]\n",
    "\n",
    "    #print(final)\n",
    "    \n",
    "    sorted_final = collections.OrderedDict(sorted(final.items()))\n",
    "    #print(sorted_final)\n",
    "    return sorted_final\n",
    "\n",
    "    "
   ]
  },
  {
   "cell_type": "code",
   "execution_count": 8,
   "metadata": {
    "collapsed": false
   },
   "outputs": [
    {
     "data": {
      "image/png": "[encoded data removed]",
      "text/plain": [
       "<matplotlib.figure.Figure at 0x1ca45d4c438>"
      ]
     },
     "metadata": {},
     "output_type": "display_data"
    }
   ],
   "source": [
    "sorted_final = cal_avg_cdf(10000)\n",
    "plt.figure('Cumulative Distribution')\n",
    "plt.plot(list(sorted_final.keys()),list(sorted_final.values()))\n",
    "plt.xlabel('x')\n",
    "plt.ylabel('Pr[X<=x]')\n",
    "plt.title('CDF of sample')\n",
    "plt.grid()\n",
    "plt.show()"
   ]
  },
  {
   "cell_type": "code",
   "execution_count": 32,
   "metadata": {
    "collapsed": true
   },
   "outputs": [],
   "source": [
    "import math \n",
    "def cal_normal_CI(cdf):\n",
    "    Z_val = 1.96 # for alpha=0.05\n",
    "    U= []\n",
    "    L= []\n",
    "    n = len(cdf)\n",
    "    for item in cdf:\n",
    "        se = math.sqrt((item*(1-item))/n)\n",
    "        L.append(item - Z_val*se)\n",
    "        U.append(item + Z_val*se)\n",
    "    \n",
    "    #print(U,L)\n",
    "    return U,L\n",
    "    "
   ]
  },
  {
   "cell_type": "code",
   "execution_count": 34,
   "metadata": {
    "collapsed": false
   },
   "outputs": [],
   "source": [
    "def cal_DKW_CI(cdf):\n",
    "    alpha = 0.05\n",
    "    U= []\n",
    "    L= []\n",
    "    n = len(cdf)\n",
    "    epsilon = math.sqrt((math.log(2/alpha))/(2*n))\n",
    "    for item in cdf:\n",
    "        L.append(item - epsilon)\n",
    "        U.append(item + epsilon)\n",
    "    \n",
    "    #print(U,L)\n",
    "    return U,L"
   ]
  },
  {
   "cell_type": "code",
   "execution_count": 35,
   "metadata": {
    "collapsed": false
   },
   "outputs": [
    {
     "data": {
      "text/html": [
       "<div>\n",
       "<style scoped>\n",
       "    .dataframe tbody tr th:only-of-type {\n",
       "        vertical-align: middle;\n",
       "    }\n",
       "\n",
       "    .dataframe tbody tr th {\n",
       "        vertical-align: top;\n",
       "    }\n",
       "\n",
       "    .dataframe thead th {\n",
       "        text-align: right;\n",
       "    }\n",
       "</style>\n",
       "<table border=\"1\" class=\"dataframe\">\n",
       "  <thead>\n",
       "    <tr style=\"text-align: right;\">\n",
       "      <th></th>\n",
       "      <th>x</th>\n",
       "    </tr>\n",
       "  </thead>\n",
       "  <tbody>\n",
       "    <tr>\n",
       "      <th>count</th>\n",
       "      <td>799.000000</td>\n",
       "    </tr>\n",
       "    <tr>\n",
       "      <th>mean</th>\n",
       "      <td>1.016984</td>\n",
       "    </tr>\n",
       "    <tr>\n",
       "      <th>std</th>\n",
       "      <td>0.583943</td>\n",
       "    </tr>\n",
       "    <tr>\n",
       "      <th>min</th>\n",
       "      <td>0.004343</td>\n",
       "    </tr>\n",
       "    <tr>\n",
       "      <th>25%</th>\n",
       "      <td>0.513077</td>\n",
       "    </tr>\n",
       "    <tr>\n",
       "      <th>50%</th>\n",
       "      <td>1.007278</td>\n",
       "    </tr>\n",
       "    <tr>\n",
       "      <th>75%</th>\n",
       "      <td>1.558829</td>\n",
       "    </tr>\n",
       "    <tr>\n",
       "      <th>max</th>\n",
       "      <td>1.999127</td>\n",
       "    </tr>\n",
       "  </tbody>\n",
       "</table>\n",
       "</div>"
      ],
      "text/plain": [
       "                x\n",
       "count  799.000000\n",
       "mean     1.016984\n",
       "std      0.583943\n",
       "min      0.004343\n",
       "25%      0.513077\n",
       "50%      1.007278\n",
       "75%      1.558829\n",
       "max      1.999127"
      ]
     },
     "execution_count": 35,
     "metadata": {},
     "output_type": "execute_result"
    }
   ],
   "source": [
    "import pandas as pd\n",
    "data = pd.read_csv('q8.csv')\n",
    "data.describe()"
   ]
  },
  {
   "cell_type": "code",
   "execution_count": 40,
   "metadata": {
    "collapsed": false
   },
   "outputs": [
    {
     "data": {
      "image/png": "[encoded data removed]",
      "text/plain": [
       "<matplotlib.figure.Figure at 0x1ca45c61cf8>"
      ]
     },
     "metadata": {},
     "output_type": "display_data"
    }
   ],
   "source": [
    "s = [3,1,7]\n",
    "key, cdf = cal_cdf(data['x'].tolist())\n",
    "upper_norm_CI, lower_norm_CI = cal_normal_CI(cdf)\n",
    "upper_DKW_CI, lower_DKW_CI = cal_DKW_CI(cdf)\n",
    "\n",
    "#plt.figure(figsize=(20,20))\n",
    "plt.figure('Cumulative Distribution')\n",
    "plt.plot(key,cdf)\n",
    "\n",
    "plt.plot(key,upper_norm_CI,color='red')\n",
    "plt.plot(key,lower_norm_CI,color='red')\n",
    "\n",
    "plt.plot(key,upper_DKW_CI,color='green')\n",
    "plt.plot(key,lower_DKW_CI,color='green')\n",
    "\n",
    "plt.xlabel('x')\n",
    "plt.ylabel('Pr[X<=x]')\n",
    "plt.title('CDF of sample')\n",
    "plt.grid()\n",
    "plt.show()"
   ]
  }
 ],
 "metadata": {
  "kernelspec": {
   "display_name": "Python 3",
   "language": "python",
   "name": "python3"
  },
  "language_info": {
   "codemirror_mode": {
    "name": "ipython",
    "version": 3
   },
   "file_extension": ".py",
   "mimetype": "text/x-python",
   "name": "python",
   "nbconvert_exporter": "python",
   "pygments_lexer": "ipython3",
   "version": "3.6.0"
  }
 },
 "nbformat": 4,
 "nbformat_minor": 2
}
